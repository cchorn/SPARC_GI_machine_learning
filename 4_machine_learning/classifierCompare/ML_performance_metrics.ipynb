{
 "cells": [
  {
   "cell_type": "code",
   "execution_count": 21,
   "metadata": {},
   "outputs": [],
   "source": [
    "import numpy as np\n",
    "import seaborn as sns\n",
    "import matplotlib.pyplot as plt\n",
    "from sklearn.metrics import accuracy_score, mean_absolute_error, balanced_accuracy_score, confusion_matrix\n",
    "import pymongo\n",
    "\n",
    "mongohost = \"192.168.0.246\"\n",
    "mongoport = 15213\n",
    "collection = 'MLresults_wideGamma'\n",
    "\n",
    "# instantiate the mongo client\n",
    "client = pymongo.MongoClient(mongohost, mongoport)\n",
    "# get handle to database\n",
    "db = client.ferret\n",
    "plt.rcParams['svg.fonttype'] = 'none'"
   ]
  },
  {
   "cell_type": "markdown",
   "metadata": {},
   "source": [
    "## count matrix"
   ]
  },
  {
   "cell_type": "code",
   "execution_count": 22,
   "metadata": {},
   "outputs": [
    {
     "name": "stdout",
     "output_type": "stream",
     "text": [
      "{'16-18': array([[70.,  0.,  0.],\n",
      "       [ 1., 56., 13.],\n",
      "       [ 0., 10., 60.]]), '15-18': array([[51.,  8.,  1.],\n",
      "       [11., 44.,  5.],\n",
      "       [ 0.,  1., 59.]]), '14-18': array([[241.,  59.],\n",
      "       [ 51., 249.]]), '13-18': array([[50., 10.,  0.],\n",
      "       [11., 45.,  4.],\n",
      "       [ 0., 11., 49.]])}\n"
     ]
    }
   ],
   "source": [
    "subj = ['14-18','16-18','13-18','15-18']\n",
    "states = [2,3,3,3]\n",
    "optimalFeats = [[5,6], [2,3,5],[3,4,6,9],[2,3,4]]\n",
    "optimalML = [\"Nearest Neighbors\", \"Linear SVM\", \"Nearest Neighbors\", \"Linear SVM\"]\n",
    "location = ['S2','S3','S3','S1S1']\n",
    "\n",
    "resultDict = {}\n",
    "for isub, iFeat, iClf, iLoc, iNumStates in zip(subj, optimalFeats, optimalML, location, states):\n",
    "    asd = db[collection].find({\"subject\":isub,\n",
    "                \"classifier\": iClf,\n",
    "                \"feats\":iFeat,\n",
    "                \"locs\": iLoc})\n",
    "    \n",
    "    resultDict[isub] = np.reshape(np.array(asd[0]['confMat']),(iNumStates,iNumStates),None)\n",
    "    \n",
    "print resultDict"
   ]
  },
  {
   "cell_type": "code",
   "execution_count": 23,
   "metadata": {},
   "outputs": [],
   "source": [
    "# count14 = np.array([[1152.,  348.],[ 207., 1293.]])\n",
    "# count16 = np.array([[607.,  91.,   2.],[ 47., 653.,   0.],[100., 102., 498.]])\n",
    "# count13 = np.round(np.array([[600.,   0.,   0.],[  0., 332., 268.],[  0.,  44., 556.]])/600*700)\n",
    "# count15 = np.round(np.array([[459., 110.,  31.],[ 89., 412.,  99.],[  0.,  28., 572.]])/600*700)\n",
    "# count29 = np.array([[964., 536.],[508., 992.]])\n",
    "\n",
    "count14 = resultDict['14-18']\n",
    "count16 = resultDict['16-18']\n",
    "count13 = np.round(resultDict['13-18']/600*700)\n",
    "count15 = np.round(resultDict['15-18']/600*700)\n",
    "\n",
    "# print np.sum(count15,1)"
   ]
  },
  {
   "cell_type": "markdown",
   "metadata": {},
   "source": [
    "## accuracies per subject"
   ]
  },
  {
   "cell_type": "code",
   "execution_count": 24,
   "metadata": {
    "scrolled": true
   },
   "outputs": [
    {
     "name": "stdout",
     "output_type": "stream",
     "text": [
      "subject 16\n",
      "Accuracy: 88.5714 CI = 0.8857 +/- 0.0430\n",
      "subject 13\n",
      "Accuracy: 79.5238 CI = 0.7952 +/- 0.0546\n",
      "subject 15\n",
      "Accuracy: 85.7143 CI = 0.8571 +/- 0.0473\n"
     ]
    }
   ],
   "source": [
    "trueLabels = []\n",
    "y_pred = []\n",
    "for countArray, subj in zip([count16, count13, count15], ['16','13','15']):\n",
    "    print 'subject '+ subj \n",
    "    subj_trueLabels = [1]*int(sum(countArray[0,:]))+[2]*int(sum(countArray[1,:]))+[3]*int(sum(countArray[2,:]))\n",
    "    subj_predLabels = ([1]*int(countArray[0,0])+[2]*int(countArray[0,1])+ [3]*int(countArray[0,2])\n",
    "              +[1]*int(countArray[1,0])+[2]*int(countArray[1,1])+ [3]*int(countArray[1,2])\n",
    "              +[1]*int(countArray[2,0])+[2]*int(countArray[2,1])+ [3]*int(countArray[2,2]))\n",
    "    subj_accuracy = accuracy_score(subj_trueLabels, subj_predLabels)*100\n",
    "    \n",
    "    classError_tmp = sum([ x==y for (x,y) in zip(subj_trueLabels, subj_predLabels)]) / float(len(subj_trueLabels))\n",
    "#     classError_tmp = mean_absolute_error(subj_trueLabels, subj_predLabels)\n",
    "    \n",
    "    n = len(subj_trueLabels)\n",
    "    CI_tmp = 1.96 * np.sqrt( (classError_tmp * (1 - classError_tmp)) / n)\n",
    "    \n",
    "    print 'Accuracy: %0.4f CI = %0.04f +/- %0.04f' %(subj_accuracy, classError_tmp, CI_tmp)\n",
    "    \n",
    "    trueLabels = trueLabels+subj_trueLabels\n",
    "    y_pred = y_pred+subj_predLabels\n"
   ]
  },
  {
   "cell_type": "markdown",
   "metadata": {},
   "source": [
    "## metrics for 3 states\n",
    "\n",
    "    ### precision = positive predictive value\n",
    "    ### recall = sensitivity\n",
    "    ### F1 score = precision * recall /(precision + recall)"
   ]
  },
  {
   "cell_type": "code",
   "execution_count": 25,
   "metadata": {
    "scrolled": true
   },
   "outputs": [
    {
     "name": "stdout",
     "output_type": "stream",
     "text": [
      "[[188  21   1]\n",
      " [ 27 159  24]\n",
      " [  0  24 186]]\n"
     ]
    }
   ],
   "source": [
    "confMat = confusion_matrix(trueLabels, y_pred)\n",
    "print confMat "
   ]
  },
  {
   "cell_type": "code",
   "execution_count": 26,
   "metadata": {},
   "outputs": [
    {
     "name": "stdout",
     "output_type": "stream",
     "text": [
      "0.15555555555555556\n",
      "0.0283018028382601\n"
     ]
    }
   ],
   "source": [
    "classError_3 = mean_absolute_error(trueLabels, y_pred)\n",
    "print classError_3\n",
    "\n",
    "n = len(trueLabels)\n",
    "CI_3 = 1.96 * np.sqrt( (classError_3 * (1 - classError_3)) / n)\n",
    "print CI_3"
   ]
  },
  {
   "cell_type": "code",
   "execution_count": 27,
   "metadata": {
    "scrolled": true
   },
   "outputs": [
    {
     "name": "stdout",
     "output_type": "stream",
     "text": [
      "              precision    recall  f1-score   support\n",
      "\n",
      "        base       0.87      0.90      0.88       210\n",
      "       early       0.78      0.76      0.77       210\n",
      "        late       0.88      0.89      0.88       210\n",
      "\n",
      "   micro avg       0.85      0.85      0.85       630\n",
      "   macro avg       0.85      0.85      0.85       630\n",
      "weighted avg       0.85      0.85      0.85       630\n",
      "\n",
      "('accuracy', 0.846031746031746)\n",
      "('base spec', 0.9274193548387096)\n",
      "('early spec', 0.8926014319809069)\n",
      "('late spec', 0.9327956989247311)\n"
     ]
    }
   ],
   "source": [
    "from sklearn.metrics import classification_report\n",
    "from sklearn.metrics import accuracy_score\n",
    "\n",
    "print(classification_report(trueLabels, y_pred, target_names=['base', 'early', 'late']))\n",
    "print( 'accuracy', accuracy_score(trueLabels, y_pred))\n",
    "\n",
    "# specificity\n",
    "# base\n",
    "tn_base = float(np.sum(confMat[[1,2],[1,2]]))\n",
    "fp_base = np.sum(confMat[[1,2],0])\n",
    "specBase = tn_base/(tn_base+fp_base)\n",
    "print ('base spec', specBase)\n",
    "\n",
    "# early\n",
    "tn_early = float(np.sum(confMat[[0,2],[0,2]]))\n",
    "fp_early = np.sum(confMat[[0,2],1])\n",
    "specEarly = tn_early/(tn_early+fp_early)\n",
    "print ('early spec', specEarly)\n",
    "\n",
    "# late\n",
    "tn_late = float(np.sum(confMat[[0,1],[0,1]]))\n",
    "fp_late = np.sum(confMat[[0,1],2])\n",
    "specLate = tn_late/(tn_late+fp_late)\n",
    "print ('late spec', specLate)"
   ]
  },
  {
   "cell_type": "markdown",
   "metadata": {},
   "source": [
    "## TNR and TPR"
   ]
  },
  {
   "cell_type": "code",
   "execution_count": 28,
   "metadata": {},
   "outputs": [
    {
     "name": "stdout",
     "output_type": "stream",
     "text": [
      "FNR: 0.114286\n",
      "FPR: 0.067204\n"
     ]
    }
   ],
   "source": [
    "fn_late = float(confMat[2,0]+confMat[2,1])\n",
    "tp_late = confMat[2,2]\n",
    "false_negative_late = fn_late/(fn_late+tp_late)\n",
    "print 'FNR: %f' %false_negative_late\n",
    "\n",
    "fp_late = np.sum(confMat[[0,1],2])\n",
    "tn_late = float(confMat[0,0]+confMat[1,1])\n",
    "false_positive_late = fp_late/(fp_late+tn_late)\n",
    "print 'FPR: %f' %false_positive_late"
   ]
  },
  {
   "cell_type": "markdown",
   "metadata": {},
   "source": [
    "## metrics for 2 states\n",
    "    ### in binary classification, recall of the positive class is also known as “sensitivity”; \n",
    "    ### recall of the negative class is “specificity”"
   ]
  },
  {
   "cell_type": "code",
   "execution_count": 29,
   "metadata": {},
   "outputs": [
    {
     "name": "stdout",
     "output_type": "stream",
     "text": [
      "[[241  59]\n",
      " [ 51 249]]\n"
     ]
    }
   ],
   "source": [
    "true14 = [1]*int(sum(count14[0,:]))+[2]*int(sum(count14[1,:]))\n",
    "pred14 = ([1]*int(count14[0,0])+[2]*int(count14[0,1])\n",
    "          +[1]*int(count14[1,0])+[2]*int(count14[1,1]))\n",
    "\n",
    "confMat14 = confusion_matrix(true14, pred14)\n",
    "print confMat14"
   ]
  },
  {
   "cell_type": "code",
   "execution_count": 30,
   "metadata": {},
   "outputs": [
    {
     "name": "stdout",
     "output_type": "stream",
     "text": [
      "Accuracy: 81.6667 CI = 0.8167 +/- 0.0302\n"
     ]
    }
   ],
   "source": [
    "classError_2 = sum([ x==y for (x,y) in zip(true14, pred14)]) / float(len(true14))\n",
    "\n",
    "n = len(trueLabels)\n",
    "CI_2 = 1.96 * np.sqrt( (classError_2 * (1 - classError_2)) / n)\n",
    "\n",
    "accuracy14 = accuracy_score(true14, pred14)*100\n",
    "\n",
    "print 'Accuracy: %0.4f CI = %0.04f +/- %0.04f' %(accuracy14, classError_2, CI_2)"
   ]
  },
  {
   "cell_type": "code",
   "execution_count": 31,
   "metadata": {
    "scrolled": false
   },
   "outputs": [
    {
     "name": "stdout",
     "output_type": "stream",
     "text": [
      "              precision    recall  f1-score   support\n",
      "\n",
      "       early       0.83      0.80      0.81       300\n",
      "        late       0.81      0.83      0.82       300\n",
      "\n",
      "   micro avg       0.82      0.82      0.82       600\n",
      "   macro avg       0.82      0.82      0.82       600\n",
      "weighted avg       0.82      0.82      0.82       600\n",
      "\n",
      "('base spec', 0.83)\n",
      "('early spec', 0.8033333333333333)\n"
     ]
    }
   ],
   "source": [
    "print(classification_report(true14, pred14, target_names=['early', 'late']))\n",
    "\n",
    "# specificity\n",
    "# base\n",
    "tn_base14 = float(np.sum(confMat14[1,1]))\n",
    "fp_base14 = np.sum(confMat14[1,0])\n",
    "specBase14 = tn_base14/(tn_base14+fp_base14)\n",
    "print ('base spec', specBase14)\n",
    "\n",
    "# early\n",
    "tn_early14 = float(np.sum(confMat14[0,0]))\n",
    "fp_early14 = np.sum(confMat14[0,1])\n",
    "specEarly14 = tn_early14/(tn_early14+fp_early14)\n",
    "print ('early spec', specEarly14)\n"
   ]
  },
  {
   "cell_type": "markdown",
   "metadata": {},
   "source": [
    "### TNR and TPR"
   ]
  },
  {
   "cell_type": "code",
   "execution_count": 32,
   "metadata": {},
   "outputs": [
    {
     "name": "stdout",
     "output_type": "stream",
     "text": [
      "FNR: 0.170000\n",
      "FPR: 0.196667\n"
     ]
    }
   ],
   "source": [
    "fn_late = float(confMat14[1,0])\n",
    "tp_late = confMat14[1,1]\n",
    "false_negative_late14 = fn_late/(fn_late+tp_late)\n",
    "print 'FNR: %f' % false_negative_late14\n",
    "\n",
    "fp_late = float(confMat14[0,1])\n",
    "tn_late = confMat14[0,0]\n",
    "false_positive_late14 = fp_late/(fp_late+tn_late)\n",
    "print 'FPR: %f' % false_positive_late14"
   ]
  },
  {
   "cell_type": "markdown",
   "metadata": {},
   "source": [
    "## combined confusion matrix"
   ]
  },
  {
   "cell_type": "code",
   "execution_count": 20,
   "metadata": {},
   "outputs": [
    {
     "data": {
      "text/plain": [
       "Text(452.236,0.5,'true labels')"
      ]
     },
     "execution_count": 20,
     "metadata": {},
     "output_type": "execute_result"
    },
    {
     "data": {
      "image/png": "[encoded data removed]",
      "text/plain": [
       "<Figure size 864x288 with 4 Axes>"
      ]
     },
     "metadata": {},
     "output_type": "display_data"
    }
   ],
   "source": [
    "totalCounts = coun[100, 0.001, u'rbf'][100, u'linear']optimal_combined_params15-18:Linear SVMcombined_consistency1.00.80.60.40.20.0label[4, 5][1, 2, 5, 6][3, 4, 5, 6, 9][3, 4, 5, 9][1, 2, 3, 5, 6][3, 5, 6][1, 5, 6, 9][2, 5, 9][1, 2, 5, 6, 9][2, 3, 4][1, 0.001, u'rbf'][1000, 0.001, u'rbf'][10, u'linear']optimal_combined_params13-18:Linear SVMcombined_consistency1.00.80.60.40.20.0label[1][1, 5][4, 5][1, 3, 5][5][2, 3, 4][1, 3, 4, 5, 9][1, 2, 5, 6][2, 3, 5, 6, 9][2, 4, 5, 9][1000, 0.001, u'rbf']optimal_combined_params16-18:Linear SVMcombined_consistency1.00.80.60.40.20.0label[2, 3, 5, 9][2, 3, 6, 9][1, 2, 3, 6, 9][4, 5][3, 5, 6, 9][3, 4, 5, 6][2, 3, 4, 5, 6][1, 5, 6, 9][1, 2, 3, 4, 5, 6][2, 3, 5][1, 0.001, u'rbf'][10, 0.001, u'rbf'][1000, 0.001, u'rbf']optimal_combined_params14-18:Linear SVMcombined_consistency1.00.80.60.40.20.0label[9][4][4, 9][2, 4, 5, 9][2, 3, 6, 9][2, 3, 6][2, 3, 4, 6][2, 3, 4, 6, 9][1, 2, 4, 5][6]1noptimal_params15-18:Nearest Neighborsneighbor_consistency1.00.80.60.40.20.0label[1, 4, 6][2, 3, 4, 6][1, 6, 9][1, 3, 4, 5, 6, 9][4, 6, 9][1, 2, 3, 4, 6][1, 3, 4, 5, 6][1, 4, 6, 9][2, 6, 9][2, 3, 4, 5, 6]1noptimal_params13-18:Nearest Neighborsneighbor_consistency1.00.80.60.40.20.0label[1, 2, 4, 5, 6, 9][1, 2, 3, 6, 9][2, 5, 6, 9][6, 9][1, 2, 4, 6, 9][2, 5, 6][3, 6, 9][2, 4, 6, 9][4, 6, 9][3, 4, 6, 9]1noptimal_params16-18:Nearest Neighborsneighbor_consistency1.00.80.60.40.20.0label[1, 2, 5, 9][1, 2, 3, 4, 5, 6][2, 5, 6, 9][5, 6][1, 2, 3, 6, 9][2, 4, 6][1, 3, 6][1, 2, 3, 5][1, 4, 5, 6][3, 5, 6]1noptimal_params14-18:Nearest Neighborsneighbor_consistency1.00.80.60.40.20.0label[2, 4, 5, 9][4, 5][3, 5, 6, 9][4, 5, 6][2, 3, 5, 6, 9][2, 3, 5, 6][2, 5, 6][2, 3, 4, 5, 6][5, 6][2, 4, 5, 6, 9]t16+count13+count15\n",
    "f,ax = plt.subplots(1,2,figsize=(12,4))\n",
    "sns.heatmap(totalCounts, cmap='Blues' ,annot=True,fmt='.02f',linewidths=.5,xticklabels=['baseline','early','late'], yticklabels=['baseline','early','late'],vmax=np.max(totalCounts),vmin=0, ax=ax[0])\n",
    "sns.heatmap(count14, cmap='Blues' ,annot=True,fmt='.02f',linewidths=.5,xticklabels=['early','late'], yticklabels=['early','late'],vmax=np.max(count14),vmin=0,ax=ax[1])\n",
    "ax[0].set_xlabel('predicted labels')\n",
    "ax[0].set_ylabel('true labels')\n",
    "\n",
    "ax[1].set_xlabel('predicted labels')\n",
    "ax[1].set_ylabel('true labels')"
   ]
  }
 ],
 "metadata": {
  "kernelspec": {
   "display_name": "Python 2",
   "language": "python",
   "name": "python2"
  },
  "language_info": {
   "codemirror_mode": {
    "name": "ipython",
    "version": 2
   },
   "file_extension": ".py",
   "mimetype": "text/x-python",
   "name": "python",
   "nbconvert_exporter": "python",
   "pygments_lexer": "ipython2",
   "version": "2.7.13"
  }
 },
 "nbformat": 4,
 "nbformat_minor": 2
}
