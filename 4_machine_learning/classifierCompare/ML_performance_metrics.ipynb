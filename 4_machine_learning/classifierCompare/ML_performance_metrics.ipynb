{
 "cells": [
  {
   "cell_type": "code",
   "execution_count": 47,
   "metadata": {},
   "outputs": [],
   "source": [
    "import numpy as np\n",
    "import seaborn as sns\n",
    "import matplotlib.pyplot as plt\n",
    "from sklearn.metrics import accuracy_score, mean_absolute_error, balanced_accuracy_score, confusion_matrix\n",
    "import pymongo\n",
    "\n",
    "mongohost = \"192.168.0.246\"\n",
    "mongoport = 15213\n",
    "collection = 'MLresults_resub'\n",
    "\n",
    "# instantiate the mongo client\n",
    "client = pymongo.MongoClient(mongohost, mongoport)\n",
    "# get handle to database\n",
    "db = client.ferret\n",
    "plt.rcParams['svg.fonttype'] = 'none'"
   ]
  },
  {
   "cell_type": "markdown",
   "metadata": {},
   "source": [
    "## count matrix"
   ]
  },
  {
   "cell_type": "code",
   "execution_count": 53,
   "metadata": {},
   "outputs": [
    {
     "name": "stdout",
     "output_type": "stream",
     "text": [
      "{'16-18': array([[690.,  10.,   0.],\n",
      "       [160., 503.,  37.],\n",
      "       [  9.,  98., 593.]]), '15-18': array([[319., 153., 128.],\n",
      "       [  0., 600.,   0.],\n",
      "       [ 54., 100., 446.]]), '14-18': array([[2449.,  551.],\n",
      "       [ 228., 2772.]]), '13-18': array([[523.,  77.,   0.],\n",
      "       [ 49., 469.,  82.],\n",
      "       [  8., 132., 460.]])}\n"
     ]
    }
   ],
   "source": [
    "subj = ['14-18','16-18','13-18','15-18']\n",
    "states = [2,3,3,3]\n",
    "optimalFeats = [[3,6], [5,6],[1,3,4,9],[2,5,9]]\n",
    "optimalML = [\"Linear SVM\", \"Linear SVM\", \"Nearest Neighbors\", \"Nearest Neighbors\"]\n",
    "location = ['S2','S3','S3','S1S1']\n",
    "\n",
    "resultDict = {}\n",
    "for isub, iFeat, iClf, iLoc, iNumStates in zip(subj, optimalFeats, optimalML, location, states):\n",
    "    asd = db[collection].find({\"subject\":isub,\n",
    "                \"classifier\": iClf,\n",
    "                \"feats\":iFeat,\n",
    "                \"locs\": iLoc})\n",
    "    \n",
    "    resultDict[isub] = np.reshape(np.array(asd[0]['confMat']),(iNumStates,iNumStates),None)\n",
    "    \n",
    "print resultDict"
   ]
  },
  {
   "cell_type": "code",
   "execution_count": 58,
   "metadata": {},
   "outputs": [],
   "source": [
    "# count14 = np.array([[1152.,  348.],[ 207., 1293.]])\n",
    "# count16 = np.array([[607.,  91.,   2.],[ 47., 653.,   0.],[100., 102., 498.]])\n",
    "# count13 = np.round(np.array([[600.,   0.,   0.],[  0., 332., 268.],[  0.,  44., 556.]])/600*700)\n",
    "# count15 = np.round(np.array([[459., 110.,  31.],[ 89., 412.,  99.],[  0.,  28., 572.]])/600*700)\n",
    "# count29 = np.array([[964., 536.],[508., 992.]])\n",
    "\n",
    "count14 = resultDict['14-18']\n",
    "count16 = resultDict['16-18']\n",
    "count13 = np.round(resultDict['13-18']/600*700)\n",
    "count15 = np.round(resultDict['15-18']/600*700)\n",
    "\n",
    "# print np.sum(count15,1)"
   ]
  },
  {
   "cell_type": "markdown",
   "metadata": {},
   "source": [
    "## accuracies per subject"
   ]
  },
  {
   "cell_type": "code",
   "execution_count": 59,
   "metadata": {
    "scrolled": true
   },
   "outputs": [
    {
     "name": "stdout",
     "output_type": "stream",
     "text": [
      "subject 16\n",
      "Accuracy: 85.0476 CI = 0.8505 +/- 0.0153\n",
      "subject 13\n",
      "Accuracy: 80.6667 CI = 0.8067 +/- 0.0169\n",
      "subject 15\n",
      "Accuracy: 75.8456 CI = 0.7585 +/- 0.0183\n"
     ]
    }
   ],
   "source": [
    "trueLabels = []\n",
    "y_pred = []\n",
    "for countArray, subj in zip([count16, count13, count15], ['16','13','15']):\n",
    "    print 'subject '+ subj \n",
    "    subj_trueLabels = [1]*int(sum(countArray[0,:]))+[2]*int(sum(countArray[1,:]))+[3]*int(sum(countArray[2,:]))\n",
    "    subj_predLabels = ([1]*int(countArray[0,0])+[2]*int(countArray[0,1])+ [3]*int(countArray[0,2])\n",
    "              +[1]*int(countArray[1,0])+[2]*int(countArray[1,1])+ [3]*int(countArray[1,2])\n",
    "              +[1]*int(countArray[2,0])+[2]*int(countArray[2,1])+ [3]*int(countArray[2,2]))\n",
    "    subj_accuracy = accuracy_score(subj_trueLabels, subj_predLabels)*100\n",
    "    \n",
    "    classError_tmp = sum([ x==y for (x,y) in zip(subj_trueLabels, subj_predLabels)]) / float(len(subj_trueLabels))\n",
    "#     classError_tmp = mean_absolute_error(subj_trueLabels, subj_predLabels)\n",
    "    \n",
    "    n = len(subj_trueLabels)\n",
    "    CI_tmp = 1.96 * np.sqrt( (classError_tmp * (1 - classError_tmp)) / n)\n",
    "    \n",
    "    print 'Accuracy: %0.4f CI = %0.04f +/- %0.04f' %(subj_accuracy, classError_tmp, CI_tmp)\n",
    "    \n",
    "    trueLabels = trueLabels+subj_trueLabels\n",
    "    y_pred = y_pred+subj_predLabels\n"
   ]
  },
  {
   "cell_type": "markdown",
   "metadata": {},
   "source": [
    "## metrics for 3 states\n",
    "\n",
    "    ### precision = positive predictive value\n",
    "    ### recall = sensitivity\n",
    "    ### F1 score = precision * recall /(precision + recall)"
   ]
  },
  {
   "cell_type": "code",
   "execution_count": 60,
   "metadata": {
    "scrolled": true
   },
   "outputs": [
    {
     "name": "stdout",
     "output_type": "stream",
     "text": [
      "[[1672  278  149]\n",
      " [ 217 1750  133]\n",
      " [  81  369 1650]]\n"
     ]
    }
   ],
   "source": [
    "confMat = confusion_matrix(trueLabels, y_pred)\n",
    "print confMat "
   ]
  },
  {
   "cell_type": "code",
   "execution_count": 61,
   "metadata": {},
   "outputs": [
    {
     "name": "stdout",
     "output_type": "stream",
     "text": [
      "0.23130655659628513\n",
      "0.010413358672491569\n"
     ]
    }
   ],
   "source": [
    "classError_3 = mean_absolute_error(trueLabels, y_pred)\n",
    "print classError_3\n",
    "\n",
    "n = len(trueLabels)\n",
    "CI_3 = 1.96 * np.sqrt( (classError_3 * (1 - classError_3)) / n)\n",
    "print CI_3"
   ]
  },
  {
   "cell_type": "code",
   "execution_count": 62,
   "metadata": {
    "scrolled": true
   },
   "outputs": [
    {
     "name": "stdout",
     "output_type": "stream",
     "text": [
      "              precision    recall  f1-score   support\n",
      "\n",
      "        base       0.85      0.80      0.82      2099\n",
      "       early       0.73      0.83      0.78      2100\n",
      "        late       0.85      0.79      0.82      2100\n",
      "\n",
      "   micro avg       0.81      0.81      0.81      6299\n",
      "   macro avg       0.81      0.81      0.81      6299\n",
      "weighted avg       0.81      0.81      0.81      6299\n",
      "\n",
      "('accuracy', 0.8052071757421813)\n",
      "('base spec', 0.9194159004867496)\n",
      "('early spec', 0.8369866465104561)\n",
      "('late spec', 0.923866090712743)\n"
     ]
    }
   ],
   "source": [
    "from sklearn.metrics import classification_report\n",
    "from sklearn.metrics import accuracy_score\n",
    "\n",
    "print(classification_report(trueLabels, y_pred, target_names=['base', 'early', 'late']))\n",
    "print( 'accuracy', accuracy_score(trueLabels, y_pred))\n",
    "\n",
    "# specificity\n",
    "# base\n",
    "tn_base = float(np.sum(confMat[[1,2],[1,2]]))\n",
    "fp_base = np.sum(confMat[[1,2],0])\n",
    "specBase = tn_base/(tn_base+fp_base)\n",
    "print ('base spec', specBase)\n",
    "\n",
    "# early\n",
    "tn_early = float(np.sum(confMat[[0,2],[0,2]]))\n",
    "fp_early = np.sum(confMat[[0,2],1])\n",
    "specEarly = tn_early/(tn_early+fp_early)b\n",
    "print ('early spec', specEarly)\n",
    "\n",
    "# late\n",
    "tn_late = float(np.sum(confMat[[0,1],[0,1]]))\n",
    "fp_late = np.sum(confMat[[0,1],2])\n",
    "specLate = tn_late/(tn_late+fp_late)\n",
    "print ('late spec', specLate)"
   ]
  },
  {
   "cell_type": "markdown",
   "metadata": {},
   "source": [
    "## TNR and TPR"
   ]
  },
  {
   "cell_type": "code",
   "execution_count": 90,
   "metadata": {},
   "outputs": [
    {
     "name": "stdout",
     "output_type": "stream",
     "text": [
      "FNR: 0.214286\n",
      "FPR: 0.076134\n"
     ]
    }
   ],
   "source": [
    "fn_late = float(confMat[2,0]+confMat[2,1])\n",
    "tp_late = confMat[2,2]\n",
    "false_negative_late = fn_late/(fn_late+tp_late)\n",
    "print 'FNR: %f' %false_negative_late\n",
    "\n",
    "fp_late = np.sum(confMat[[0,1],2])\n",
    "tn_late = float(confMat[0,0]+confMat[1,1])\n",
    "false_positive_late = fp_late/(fp_late+tn_late)\n",
    "print 'FPR: %f' %false_positive_late"
   ]
  },
  {
   "cell_type": "markdown",
   "metadata": {},
   "source": [
    "## metrics for 2 states\n",
    "    ### in binary classification, recall of the positive class is also known as “sensitivity”; \n",
    "    ### recall of the negative class is “specificity”"
   ]
  },
  {
   "cell_type": "code",
   "execution_count": 63,
   "metadata": {},
   "outputs": [
    {
     "name": "stdout",
     "output_type": "stream",
     "text": [
      "[[2449  551]\n",
      " [ 228 2772]]\n"
     ]
    }
   ],
   "source": [
    "true14 = [1]*int(sum(count14[0,:]))+[2]*int(sum(count14[1,:]))\n",
    "pred14 = ([1]*int(count14[0,0])+[2]*int(count14[0,1])\n",
    "          +[1]*int(count14[1,0])+[2]*int(count14[1,1]))\n",
    "\n",
    "confMat14 = confusion_matrix(true14, pred14)\n",
    "print confMat14"
   ]
  },
  {
   "cell_type": "code",
   "execution_count": 64,
   "metadata": {},
   "outputs": [
    {
     "name": "stdout",
     "output_type": "stream",
     "text": [
      "Accuracy: 87.0167 CI = 0.8702 +/- 0.0083\n"
     ]
    }
   ],
   "source": [
    "classError_2 = sum([ x==y for (x,y) in zip(true14, pred14)]) / float(len(true14))\n",
    "\n",
    "n = len(trueLabels)\n",
    "CI_2 = 1.96 * np.sqrt( (classError_2 * (1 - classError_2)) / n)\n",
    "\n",
    "accuracy14 = accuracy_score(true14, pred14)*100\n",
    "\n",
    "print 'Accuracy: %0.4f CI = %0.04f +/- %0.04f' %(accuracy14, classError_2, CI_2)"
   ]
  },
  {
   "cell_type": "code",
   "execution_count": 65,
   "metadata": {
    "scrolled": false
   },
   "outputs": [
    {
     "name": "stdout",
     "output_type": "stream",
     "text": [
      "              precision    recall  f1-score   support\n",
      "\n",
      "       early       0.91      0.82      0.86      3000\n",
      "        late       0.83      0.92      0.88      3000\n",
      "\n",
      "   micro avg       0.87      0.87      0.87      6000\n",
      "   macro avg       0.87      0.87      0.87      6000\n",
      "weighted avg       0.87      0.87      0.87      6000\n",
      "\n",
      "('base spec', 0.924)\n",
      "('early spec', 0.8163333333333334)\n"
     ]
    }
   ],
   "source": [
    "print(classification_report(true14, pred14, target_names=['early', 'late']))\n",
    "\n",
    "# specificity\n",
    "# base\n",
    "tn_base14 = float(np.sum(confMat14[1,1]))\n",
    "fp_base14 = np.sum(confMat14[1,0])\n",
    "specBase14 = tn_base14/(tn_base14+fp_base14)\n",
    "print ('base spec', specBase14)\n",
    "\n",
    "# early\n",
    "tn_early14 = float(np.sum(confMat14[0,0]))\n",
    "fp_early14 = np.sum(confMat14[0,1])\n",
    "specEarly14 = tn_early14/(tn_early14+fp_early14)\n",
    "print ('early spec', specEarly14)\n"
   ]
  },
  {
   "cell_type": "markdown",
   "metadata": {},
   "source": [
    "### TNR and TPR"
   ]
  },
  {
   "cell_type": "code",
   "execution_count": 88,
   "metadata": {},
   "outputs": [
    {
     "name": "stdout",
     "output_type": "stream",
     "text": [
      "FNR: 0.076000\n",
      "FPR: 0.183667\n"
     ]
    }
   ],
   "source": [
    "fn_late = float(confMat14[1,0])\n",
    "tp_late = confMat14[1,1]\n",
    "false_negative_late14 = fn_late/(fn_late+tp_late)\n",
    "print 'FNR: %f' % false_negative_late14\n",
    "\n",
    "fp_late = float(confMat14[0,1])\n",
    "tn_late = confMat14[0,0]\n",
    "false_positive_late14 = fp_late/(fp_late+tn_late)\n",
    "print 'FPR: %f' % false_positive_late14"
   ]
  },
  {
   "cell_type": "markdown",
   "metadata": {},
   "source": [
    "## combined confusion matrix"
   ]
  },
  {
   "cell_type": "code",
   "execution_count": 79,
   "metadata": {},
   "outputs": [
    {
     "data": {
      "text/plain": [
       "Text(452.236,0.5,'true labels')"
      ]
     },
     "execution_count": 79,
     "metadata": {},
     "output_type": "execute_result"
    },
    {
     "data": {
      "image/png": "[encoded data removed]",
      "text/plain": [
       "<Figure size 864x288 with 4 Axes>"
      ]
     },
     "metadata": {},
     "output_type": "display_data"
    }
   ],
   "source": [
    "#### totalCounts = count16+count13+count15\n",
    "f,ax = plt.subplots(1,2,figsize=(12,4))\n",
    "sns.heatmap(totalCounts, cmap='Blues' ,annot=True,fmt='.02f',linewidths=.5,xticklabels=['baseline','early','late'], yticklabels=['baseline','early','late'],vmax=np.max(totalCounts),vmin=0, ax=ax[0])\n",
    "sns.heatmap(count14, cmap='Blues' ,annot=True,fmt='.02f',linewidths=.5,xticklabels=['early','late'], yticklabels=['early','late'],vmax=np.max(count14),vmin=0,ax=ax[1])\n",
    "ax[0].set_xlabel('predicted labels')\n",
    "ax[0].set_ylabel('true labels')\n",
    "\n",
    "ax[1].set_xlabel('predicted labels')\n",
    "ax[1].set_ylabel('true labels')"
   ]
  }
 ],
 "metadata": {
  "kernelspec": {
   "display_name": "Python 2",
   "language": "python",
   "name": "python2"
  },
  "language_info": {
   "codemirror_mode": {
    "name": "ipython",
    "version": 2
   },
   "file_extension": ".py",
   "mimetype": "text/x-python",
   "name": "python",
   "nbconvert_exporter": "python",
   "pygments_lexer": "ipython2",
   "version": "2.7.13"
  }
 },
 "nbformat": 4,
 "nbformat_minor": 2
}
