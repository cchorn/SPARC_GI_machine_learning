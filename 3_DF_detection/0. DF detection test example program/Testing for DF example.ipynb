{
 "cells": [
  {
   "cell_type": "markdown",
   "metadata": {},
   "source": [
    "# ANOVA with ad-hoc multiple tests for dominant frequency (DF) detection"
   ]
  },
  {
   "cell_type": "markdown",
   "metadata": {},
   "source": [
    "- ### An illustrative example to show the idea of tests.\n",
    "- ### Repeat the procedure for all files.\n",
    "- ### Save the results."
   ]
  },
  {
   "cell_type": "markdown",
   "metadata": {},
   "source": [
    "### 1. Read in example file and preprocess data"
   ]
  },
  {
   "cell_type": "code",
   "execution_count": 3,
   "metadata": {
    "scrolled": false
   },
   "outputs": [],
   "source": [
    "rm(list=ls())\n",
    "\n",
    "# include packages\n",
    "library(dplyr)\n",
    "library(stringr)\n",
    "library(tibble)\n",
    "library(ggplot2)\n",
    "library(multcomp)\n",
    "library(utils)\n"
   ]
  },
  {
   "cell_type": "markdown",
   "metadata": {},
   "source": [
    "Use file '14-18_Trial05_chpaddle01.csv' as an illustrative exapmle. Dominant frequency(DF) can be visually detected in this example."
   ]
  },
  {
   "cell_type": "code",
   "execution_count": 4,
   "metadata": {
    "scrolled": true
   },
   "outputs": [
    {
     "data": {
      "text/html": [
       "<table>\n",
       "<thead><tr><th scope=col>Row</th><th scope=col>w0</th><th scope=col>w0_5</th><th scope=col>w1</th><th scope=col>w1_5</th><th scope=col>w2</th><th scope=col>w2_5</th><th scope=col>w3</th><th scope=col>w3_5</th><th scope=col>w4</th><th scope=col>...</th><th scope=col>w14_5</th><th scope=col>w15</th><th scope=col>w15_5</th><th scope=col>w16</th><th scope=col>w16_5</th><th scope=col>w17</th><th scope=col>w17_5</th><th scope=col>w18</th><th scope=col>w18_5</th><th scope=col>w19</th></tr></thead>\n",
       "<tbody>\n",
       "\t<tr><td>6.0       </td><td>1386.799  </td><td>4961.676  </td><td>1410.825  </td><td>956.4754  </td><td>1165.46938</td><td>10460.5447</td><td> 6098.140 </td><td> 216.9147 </td><td>341.9505  </td><td>...       </td><td>  1.976587</td><td>131.2728  </td><td> 27.43924 </td><td>  5.951749</td><td> 0.5248125</td><td> 2.4145032</td><td>11.930053 </td><td> 12.61946 </td><td> 4.503350 </td><td> 6.998679 </td></tr>\n",
       "\t<tr><td>6.3       </td><td>2431.249  </td><td>7262.148  </td><td>2756.635  </td><td>904.6250  </td><td> 964.39043</td><td>12622.4456</td><td> 8149.848 </td><td> 260.1514 </td><td>374.7891  </td><td>...       </td><td>  5.080499</td><td>192.8473  </td><td> 51.14581 </td><td> 13.772046</td><td> 1.0646783</td><td> 0.3417527</td><td> 8.247015 </td><td> 13.38775 </td><td> 9.361819 </td><td> 8.229449 </td></tr>\n",
       "\t<tr><td>6.6       </td><td>3213.452  </td><td>8621.371  </td><td>4354.158  </td><td>577.1479  </td><td> 277.71245</td><td>11528.8294</td><td>10083.380 </td><td> 394.7478 </td><td>366.2508  </td><td>...       </td><td> 33.543356</td><td>238.7821  </td><td> 97.39512 </td><td> 29.337524</td><td> 2.2451300</td><td> 4.0593645</td><td> 2.419932 </td><td> 17.79931 </td><td>17.389107 </td><td>10.545041 </td></tr>\n",
       "\t<tr><td>6.9       </td><td>3228.182  </td><td>8695.317  </td><td>5787.836  </td><td>399.2002  </td><td>  59.80907</td><td> 7472.2815</td><td>10797.601 </td><td> 683.5675 </td><td>320.5515  </td><td>...       </td><td> 74.355723</td><td>256.5162  </td><td>149.82806 </td><td> 56.807234</td><td> 5.4458971</td><td>17.0511763</td><td> 9.146543 </td><td> 36.91621 </td><td>29.507338 </td><td>15.136306 </td></tr>\n",
       "\t<tr><td>7.2       </td><td>2797.726  </td><td>7781.322  </td><td>6780.359  </td><td>605.7169  </td><td>1375.80285</td><td> 2968.3775</td><td> 9448.194 </td><td>1104.9204 </td><td>247.0349  </td><td>...       </td><td>113.198708</td><td>242.6424  </td><td>169.93774 </td><td> 99.338338</td><td>12.7059038</td><td>35.7005083</td><td>38.804834 </td><td> 78.09313 </td><td>45.074560 </td><td>24.120590 </td></tr>\n",
       "\t<tr><td>7.5       </td><td>3311.964  </td><td>6755.773  </td><td>7421.657  </td><td>867.5728  </td><td>4179.08867</td><td>  410.7615</td><td> 6439.019 </td><td>1546.7520 </td><td>161.5100  </td><td>...       </td><td>159.056785</td><td>202.7660  </td><td>137.91201 </td><td>155.222384</td><td>23.9051477</td><td>48.7736093</td><td>80.805347 </td><td>131.19752 </td><td>62.963952 </td><td>41.583796 </td></tr>\n",
       "</tbody>\n",
       "</table>\n"
      ],
      "text/latex": [
       "\\begin{tabular}{r|llllllllllllllllllllllllllllllllllllllll}\n",
       " Row & w0 & w0\\_5 & w1 & w1\\_5 & w2 & w2\\_5 & w3 & w3\\_5 & w4 & ... & w14\\_5 & w15 & w15\\_5 & w16 & w16\\_5 & w17 & w17\\_5 & w18 & w18\\_5 & w19\\\\\n",
       "\\hline\n",
       "\t 6.0        & 1386.799   & 4961.676   & 1410.825   & 956.4754   & 1165.46938 & 10460.5447 &  6098.140  &  216.9147  & 341.9505   & ...        &   1.976587 & 131.2728   &  27.43924  &   5.951749 &  0.5248125 &  2.4145032 & 11.930053  &  12.61946  &  4.503350  &  6.998679 \\\\\n",
       "\t 6.3        & 2431.249   & 7262.148   & 2756.635   & 904.6250   &  964.39043 & 12622.4456 &  8149.848  &  260.1514  & 374.7891   & ...        &   5.080499 & 192.8473   &  51.14581  &  13.772046 &  1.0646783 &  0.3417527 &  8.247015  &  13.38775  &  9.361819  &  8.229449 \\\\\n",
       "\t 6.6        & 3213.452   & 8621.371   & 4354.158   & 577.1479   &  277.71245 & 11528.8294 & 10083.380  &  394.7478  & 366.2508   & ...        &  33.543356 & 238.7821   &  97.39512  &  29.337524 &  2.2451300 &  4.0593645 &  2.419932  &  17.79931  & 17.389107  & 10.545041 \\\\\n",
       "\t 6.9        & 3228.182   & 8695.317   & 5787.836   & 399.2002   &   59.80907 &  7472.2815 & 10797.601  &  683.5675  & 320.5515   & ...        &  74.355723 & 256.5162   & 149.82806  &  56.807234 &  5.4458971 & 17.0511763 &  9.146543  &  36.91621  & 29.507338  & 15.136306 \\\\\n",
       "\t 7.2        & 2797.726   & 7781.322   & 6780.359   & 605.7169   & 1375.80285 &  2968.3775 &  9448.194  & 1104.9204  & 247.0349   & ...        & 113.198708 & 242.6424   & 169.93774  &  99.338338 & 12.7059038 & 35.7005083 & 38.804834  &  78.09313  & 45.074560  & 24.120590 \\\\\n",
       "\t 7.5        & 3311.964   & 6755.773   & 7421.657   & 867.5728   & 4179.08867 &   410.7615 &  6439.019  & 1546.7520  & 161.5100   & ...        & 159.056785 & 202.7660   & 137.91201  & 155.222384 & 23.9051477 & 48.7736093 & 80.805347  & 131.19752  & 62.963952  & 41.583796 \\\\\n",
       "\\end{tabular}\n"
      ],
      "text/markdown": [
       "\n",
       "Row | w0 | w0_5 | w1 | w1_5 | w2 | w2_5 | w3 | w3_5 | w4 | ... | w14_5 | w15 | w15_5 | w16 | w16_5 | w17 | w17_5 | w18 | w18_5 | w19 | \n",
       "|---|---|---|---|---|---|\n",
       "| 6.0        | 1386.799   | 4961.676   | 1410.825   | 956.4754   | 1165.46938 | 10460.5447 |  6098.140  |  216.9147  | 341.9505   | ...        |   1.976587 | 131.2728   |  27.43924  |   5.951749 |  0.5248125 |  2.4145032 | 11.930053  |  12.61946  |  4.503350  |  6.998679  | \n",
       "| 6.3        | 2431.249   | 7262.148   | 2756.635   | 904.6250   |  964.39043 | 12622.4456 |  8149.848  |  260.1514  | 374.7891   | ...        |   5.080499 | 192.8473   |  51.14581  |  13.772046 |  1.0646783 |  0.3417527 |  8.247015  |  13.38775  |  9.361819  |  8.229449  | \n",
       "| 6.6        | 3213.452   | 8621.371   | 4354.158   | 577.1479   |  277.71245 | 11528.8294 | 10083.380  |  394.7478  | 366.2508   | ...        |  33.543356 | 238.7821   |  97.39512  |  29.337524 |  2.2451300 |  4.0593645 |  2.419932  |  17.79931  | 17.389107  | 10.545041  | \n",
       "| 6.9        | 3228.182   | 8695.317   | 5787.836   | 399.2002   |   59.80907 |  7472.2815 | 10797.601  |  683.5675  | 320.5515   | ...        |  74.355723 | 256.5162   | 149.82806  |  56.807234 |  5.4458971 | 17.0511763 |  9.146543  |  36.91621  | 29.507338  | 15.136306  | \n",
       "| 7.2        | 2797.726   | 7781.322   | 6780.359   | 605.7169   | 1375.80285 |  2968.3775 |  9448.194  | 1104.9204  | 247.0349   | ...        | 113.198708 | 242.6424   | 169.93774  |  99.338338 | 12.7059038 | 35.7005083 | 38.804834  |  78.09313  | 45.074560  | 24.120590  | \n",
       "| 7.5        | 3311.964   | 6755.773   | 7421.657   | 867.5728   | 4179.08867 |   410.7615 |  6439.019  | 1546.7520  | 161.5100   | ...        | 159.056785 | 202.7660   | 137.91201  | 155.222384 | 23.9051477 | 48.7736093 | 80.805347  | 131.19752  | 62.963952  | 41.583796  | \n",
       "\n",
       "\n"
      ],
      "text/plain": [
       "  Row w0       w0_5     w1       w1_5     w2         w2_5       w3       \n",
       "1 6.0 1386.799 4961.676 1410.825 956.4754 1165.46938 10460.5447  6098.140\n",
       "2 6.3 2431.249 7262.148 2756.635 904.6250  964.39043 12622.4456  8149.848\n",
       "3 6.6 3213.452 8621.371 4354.158 577.1479  277.71245 11528.8294 10083.380\n",
       "4 6.9 3228.182 8695.317 5787.836 399.2002   59.80907  7472.2815 10797.601\n",
       "5 7.2 2797.726 7781.322 6780.359 605.7169 1375.80285  2968.3775  9448.194\n",
       "6 7.5 3311.964 6755.773 7421.657 867.5728 4179.08867   410.7615  6439.019\n",
       "  w3_5      w4       ... w14_5      w15      w15_5     w16        w16_5     \n",
       "1  216.9147 341.9505 ...   1.976587 131.2728  27.43924   5.951749  0.5248125\n",
       "2  260.1514 374.7891 ...   5.080499 192.8473  51.14581  13.772046  1.0646783\n",
       "3  394.7478 366.2508 ...  33.543356 238.7821  97.39512  29.337524  2.2451300\n",
       "4  683.5675 320.5515 ...  74.355723 256.5162 149.82806  56.807234  5.4458971\n",
       "5 1104.9204 247.0349 ... 113.198708 242.6424 169.93774  99.338338 12.7059038\n",
       "6 1546.7520 161.5100 ... 159.056785 202.7660 137.91201 155.222384 23.9051477\n",
       "  w17        w17_5     w18       w18_5     w19      \n",
       "1  2.4145032 11.930053  12.61946  4.503350  6.998679\n",
       "2  0.3417527  8.247015  13.38775  9.361819  8.229449\n",
       "3  4.0593645  2.419932  17.79931 17.389107 10.545041\n",
       "4 17.0511763  9.146543  36.91621 29.507338 15.136306\n",
       "5 35.7005083 38.804834  78.09313 45.074560 24.120590\n",
       "6 48.7736093 80.805347 131.19752 62.963952 41.583796"
      ]
     },
     "metadata": {},
     "output_type": "display_data"
    }
   ],
   "source": [
    "# read example data\n",
    "# first column = frequency in cpm\n",
    "# 2nd to last column = power over time (extract from time windows)\n",
    "\n",
    "\n",
    "filename = '14-18_Trial05_chpaddle01.csv'\n",
    "freq_data = read.csv(filename,na=\"\")\n",
    "head(freq_data)"
   ]
  },
  {
   "cell_type": "code",
   "execution_count": 5,
   "metadata": {},
   "outputs": [
    {
     "data": {
      "text/html": [
       "<table>\n",
       "<thead><tr><th scope=col>Row</th><th scope=col>w0</th><th scope=col>w1</th><th scope=col>w2</th><th scope=col>w3</th><th scope=col>w4</th><th scope=col>w5</th><th scope=col>w6</th><th scope=col>w7</th><th scope=col>w8</th><th scope=col>...</th><th scope=col>w10</th><th scope=col>w11</th><th scope=col>w12</th><th scope=col>w13</th><th scope=col>w14</th><th scope=col>w15</th><th scope=col>w16</th><th scope=col>w17</th><th scope=col>w18</th><th scope=col>w19</th></tr></thead>\n",
       "<tbody>\n",
       "\t<tr><td>6.0       </td><td>1386.799  </td><td>1410.825  </td><td>1165.46938</td><td> 6098.140 </td><td>341.9505  </td><td> 21.68448 </td><td> 654.2971 </td><td>  1.717319</td><td> 39.67171 </td><td>...       </td><td>151.0501  </td><td>1419.897  </td><td> 310.8326 </td><td> 924.1847 </td><td>298.4445  </td><td>131.2728  </td><td>  5.951749</td><td> 2.4145032</td><td> 12.61946 </td><td> 6.998679 </td></tr>\n",
       "\t<tr><td>6.3       </td><td>2431.249  </td><td>2756.635  </td><td> 964.39043</td><td> 8149.848 </td><td>374.7891  </td><td>179.29568 </td><td>1181.6906 </td><td>  7.966086</td><td> 75.10028 </td><td>...       </td><td>259.0438  </td><td>2357.894  </td><td> 517.5151 </td><td>1663.7016 </td><td>419.5536  </td><td>192.8473  </td><td> 13.772046</td><td> 0.3417527</td><td> 13.38775 </td><td> 8.229449 </td></tr>\n",
       "\t<tr><td>6.6       </td><td>3213.452  </td><td>4354.158  </td><td> 277.71245</td><td>10083.380 </td><td>366.2508  </td><td>473.01685 </td><td>1877.7371 </td><td> 19.420175</td><td>102.64445 </td><td>...       </td><td>356.4421  </td><td>3448.600  </td><td>1084.0616 </td><td>2639.9323 </td><td>450.5449  </td><td>238.7821  </td><td> 29.337524</td><td> 4.0593645</td><td> 17.79931 </td><td>10.545041 </td></tr>\n",
       "\t<tr><td>6.9       </td><td>3228.182  </td><td>5787.836  </td><td>  59.80907</td><td>10797.601 </td><td>320.5515  </td><td>705.22196 </td><td>2684.8713 </td><td>  4.839838</td><td>110.90530 </td><td>...       </td><td>436.1494  </td><td>4307.957  </td><td>2337.2795 </td><td>3460.8268 </td><td>381.1298  </td><td>256.5162  </td><td> 56.807234</td><td>17.0511763</td><td> 36.91621 </td><td>15.136306 </td></tr>\n",
       "\t<tr><td>7.2       </td><td>2797.726  </td><td>6780.359  </td><td>1375.80285</td><td> 9448.194 </td><td>247.0349  </td><td>651.31489 </td><td>3584.4163 </td><td> 34.764594</td><td> 96.20378 </td><td>...       </td><td>497.2973  </td><td>4638.324  </td><td>4386.2514 </td><td>3643.4819 </td><td>291.5707  </td><td>242.6424  </td><td> 99.338338</td><td>35.7005083</td><td> 78.09313 </td><td>24.120590 </td></tr>\n",
       "\t<tr><td>7.5       </td><td>3311.964  </td><td>7421.657  </td><td>4179.08867</td><td> 6439.019 </td><td>161.5100  </td><td>412.79702 </td><td>4639.5071 </td><td>320.148417</td><td> 69.80801 </td><td>...       </td><td>593.5818  </td><td>4398.772  </td><td>6577.9422 </td><td>3120.3333 </td><td>259.9626  </td><td>202.7660  </td><td>155.222384</td><td>48.7736093</td><td>131.19752 </td><td>41.583796 </td></tr>\n",
       "</tbody>\n",
       "</table>\n"
      ],
      "text/latex": [
       "\\begin{tabular}{r|lllllllllllllllllllll}\n",
       " Row & w0 & w1 & w2 & w3 & w4 & w5 & w6 & w7 & w8 & ... & w10 & w11 & w12 & w13 & w14 & w15 & w16 & w17 & w18 & w19\\\\\n",
       "\\hline\n",
       "\t 6.0        & 1386.799   & 1410.825   & 1165.46938 &  6098.140  & 341.9505   &  21.68448  &  654.2971  &   1.717319 &  39.67171  & ...        & 151.0501   & 1419.897   &  310.8326  &  924.1847  & 298.4445   & 131.2728   &   5.951749 &  2.4145032 &  12.61946  &  6.998679 \\\\\n",
       "\t 6.3        & 2431.249   & 2756.635   &  964.39043 &  8149.848  & 374.7891   & 179.29568  & 1181.6906  &   7.966086 &  75.10028  & ...        & 259.0438   & 2357.894   &  517.5151  & 1663.7016  & 419.5536   & 192.8473   &  13.772046 &  0.3417527 &  13.38775  &  8.229449 \\\\\n",
       "\t 6.6        & 3213.452   & 4354.158   &  277.71245 & 10083.380  & 366.2508   & 473.01685  & 1877.7371  &  19.420175 & 102.64445  & ...        & 356.4421   & 3448.600   & 1084.0616  & 2639.9323  & 450.5449   & 238.7821   &  29.337524 &  4.0593645 &  17.79931  & 10.545041 \\\\\n",
       "\t 6.9        & 3228.182   & 5787.836   &   59.80907 & 10797.601  & 320.5515   & 705.22196  & 2684.8713  &   4.839838 & 110.90530  & ...        & 436.1494   & 4307.957   & 2337.2795  & 3460.8268  & 381.1298   & 256.5162   &  56.807234 & 17.0511763 &  36.91621  & 15.136306 \\\\\n",
       "\t 7.2        & 2797.726   & 6780.359   & 1375.80285 &  9448.194  & 247.0349   & 651.31489  & 3584.4163  &  34.764594 &  96.20378  & ...        & 497.2973   & 4638.324   & 4386.2514  & 3643.4819  & 291.5707   & 242.6424   &  99.338338 & 35.7005083 &  78.09313  & 24.120590 \\\\\n",
       "\t 7.5        & 3311.964   & 7421.657   & 4179.08867 &  6439.019  & 161.5100   & 412.79702  & 4639.5071  & 320.148417 &  69.80801  & ...        & 593.5818   & 4398.772   & 6577.9422  & 3120.3333  & 259.9626   & 202.7660   & 155.222384 & 48.7736093 & 131.19752  & 41.583796 \\\\\n",
       "\\end{tabular}\n"
      ],
      "text/markdown": [
       "\n",
       "Row | w0 | w1 | w2 | w3 | w4 | w5 | w6 | w7 | w8 | ... | w10 | w11 | w12 | w13 | w14 | w15 | w16 | w17 | w18 | w19 | \n",
       "|---|---|---|---|---|---|\n",
       "| 6.0        | 1386.799   | 1410.825   | 1165.46938 |  6098.140  | 341.9505   |  21.68448  |  654.2971  |   1.717319 |  39.67171  | ...        | 151.0501   | 1419.897   |  310.8326  |  924.1847  | 298.4445   | 131.2728   |   5.951749 |  2.4145032 |  12.61946  |  6.998679  | \n",
       "| 6.3        | 2431.249   | 2756.635   |  964.39043 |  8149.848  | 374.7891   | 179.29568  | 1181.6906  |   7.966086 |  75.10028  | ...        | 259.0438   | 2357.894   |  517.5151  | 1663.7016  | 419.5536   | 192.8473   |  13.772046 |  0.3417527 |  13.38775  |  8.229449  | \n",
       "| 6.6        | 3213.452   | 4354.158   |  277.71245 | 10083.380  | 366.2508   | 473.01685  | 1877.7371  |  19.420175 | 102.64445  | ...        | 356.4421   | 3448.600   | 1084.0616  | 2639.9323  | 450.5449   | 238.7821   |  29.337524 |  4.0593645 |  17.79931  | 10.545041  | \n",
       "| 6.9        | 3228.182   | 5787.836   |   59.80907 | 10797.601  | 320.5515   | 705.22196  | 2684.8713  |   4.839838 | 110.90530  | ...        | 436.1494   | 4307.957   | 2337.2795  | 3460.8268  | 381.1298   | 256.5162   |  56.807234 | 17.0511763 |  36.91621  | 15.136306  | \n",
       "| 7.2        | 2797.726   | 6780.359   | 1375.80285 |  9448.194  | 247.0349   | 651.31489  | 3584.4163  |  34.764594 |  96.20378  | ...        | 497.2973   | 4638.324   | 4386.2514  | 3643.4819  | 291.5707   | 242.6424   |  99.338338 | 35.7005083 |  78.09313  | 24.120590  | \n",
       "| 7.5        | 3311.964   | 7421.657   | 4179.08867 |  6439.019  | 161.5100   | 412.79702  | 4639.5071  | 320.148417 |  69.80801  | ...        | 593.5818   | 4398.772   | 6577.9422  | 3120.3333  | 259.9626   | 202.7660   | 155.222384 | 48.7736093 | 131.19752  | 41.583796  | \n",
       "\n",
       "\n"
      ],
      "text/plain": [
       "  Row w0       w1       w2         w3        w4       w5        w6       \n",
       "1 6.0 1386.799 1410.825 1165.46938  6098.140 341.9505  21.68448  654.2971\n",
       "2 6.3 2431.249 2756.635  964.39043  8149.848 374.7891 179.29568 1181.6906\n",
       "3 6.6 3213.452 4354.158  277.71245 10083.380 366.2508 473.01685 1877.7371\n",
       "4 6.9 3228.182 5787.836   59.80907 10797.601 320.5515 705.22196 2684.8713\n",
       "5 7.2 2797.726 6780.359 1375.80285  9448.194 247.0349 651.31489 3584.4163\n",
       "6 7.5 3311.964 7421.657 4179.08867  6439.019 161.5100 412.79702 4639.5071\n",
       "  w7         w8        ... w10      w11      w12       w13       w14     \n",
       "1   1.717319  39.67171 ... 151.0501 1419.897  310.8326  924.1847 298.4445\n",
       "2   7.966086  75.10028 ... 259.0438 2357.894  517.5151 1663.7016 419.5536\n",
       "3  19.420175 102.64445 ... 356.4421 3448.600 1084.0616 2639.9323 450.5449\n",
       "4   4.839838 110.90530 ... 436.1494 4307.957 2337.2795 3460.8268 381.1298\n",
       "5  34.764594  96.20378 ... 497.2973 4638.324 4386.2514 3643.4819 291.5707\n",
       "6 320.148417  69.80801 ... 593.5818 4398.772 6577.9422 3120.3333 259.9626\n",
       "  w15      w16        w17        w18       w19      \n",
       "1 131.2728   5.951749  2.4145032  12.61946  6.998679\n",
       "2 192.8473  13.772046  0.3417527  13.38775  8.229449\n",
       "3 238.7821  29.337524  4.0593645  17.79931 10.545041\n",
       "4 256.5162  56.807234 17.0511763  36.91621 15.136306\n",
       "5 242.6424  99.338338 35.7005083  78.09313 24.120590\n",
       "6 202.7660 155.222384 48.7736093 131.19752 41.583796"
      ]
     },
     "metadata": {},
     "output_type": "display_data"
    }
   ],
   "source": [
    "# Pick up unoverlapped 1-min time windows \n",
    "lastcol = names(freq_data)[ncol(freq_data)]\n",
    "lastcol = as.numeric(substr(lastcol,2,nchar(lastcol)))\n",
    "freq_nooverlap = freq_data[,c(\"Row\",paste0(\"w\",0:lastcol))]\n",
    "head(freq_nooverlap)"
   ]
  },
  {
   "cell_type": "markdown",
   "metadata": {},
   "source": [
    "### 2. Plot the data  \n",
    "![3Dplot](unscaled_3d_waterfall.png)\n"
   ]
  },
  {
   "cell_type": "code",
   "execution_count": 6,
   "metadata": {
    "scrolled": true
   },
   "outputs": [
    {
     "data": {},
     "metadata": {},
     "output_type": "display_data"
    },
    {
     "data": {
      "image/png": "[encoded data removed]",
      "text/plain": [
       "plot without title"
      ]
     },
     "metadata": {},
     "output_type": "display_data"
    }
   ],
   "source": [
    "# plot average power vs. frequency\n",
    "rowmn = rowMeans(freq_nooverlap[,2:ncol(freq_nooverlap)])\n",
    "plotdata = data.frame(Row = freq_nooverlap$Row, avg_power = rowmn)\n",
    "ggplot(data = plotdata,aes(x=Row,y=avg_power))+geom_point()+geom_line()"
   ]
  },
  {
   "cell_type": "markdown",
   "metadata": {},
   "source": [
    "### 3. ANOVA: a test on differences among frequency bins  \n",
    "p<2e-16  i.e.   Powers are not equal at all frequencies"
   ]
  },
  {
   "cell_type": "code",
   "execution_count": 11,
   "metadata": {},
   "outputs": [
    {
     "data": {
      "text/plain": [
       "             Df    Sum Sq   Mean Sq F value Pr(>F)    \n",
       "Row          30 4.328e+09 144270976   7.227 <2e-16 ***\n",
       "Residuals   589 1.176e+10  19963053                   \n",
       "---\n",
       "Signif. codes:  0 '***' 0.001 '**' 0.01 '*' 0.05 '.' 0.1 ' ' 1"
      ]
     },
     "metadata": {},
     "output_type": "display_data"
    }
   ],
   "source": [
    "freq_long = reshape(freq_nooverlap,varying = names(freq_nooverlap)[2:ncol(freq_nooverlap)],v.names = \"power\",\n",
    "                    timevar = \"time\",idvar = \"Row\",direction = \"long\")\n",
    "row.names(freq_long)=NULL\n",
    "freq_long$time = freq_long$time - 1\n",
    "freq_long$Row = as.factor(freq_long$Row)\n",
    "\n",
    "getpv = function(p){\n",
    "  if(p<=0.0001) pv = \"<0.0001\" else\n",
    "    pv = as.character(round(p,4))\n",
    "  return(pv)\n",
    "}\n",
    "\n",
    "freq_lm <- lm(power ~ Row, data = freq_long)\n",
    "freq_av <- aov(freq_lm)\n",
    "anova_p = summary(freq_av)[[1]][[\"Pr(>F)\"]][1]\n",
    "anova_p = getpv(anova_p)\n",
    "summary(freq_av)"
   ]
  },
  {
   "cell_type": "markdown",
   "metadata": {},
   "source": [
    "### 4. Add-hoc multiple comparisons\n",
    "ANOVA just tell us that not all frequencies behaved equally, without pointing out either how many behaved differently or which ones did. We used to do multiple comparisons between all possible pairs of frequencies. However, \n",
    "- the number of pairs were huge, leading to useless adjusted p-values. \n",
    "- Powers at adjacent frequency bins are very close, hard to detect significant difference.\n",
    "\n",
    "Actually, we just need to test the difference among all peaks.  \n",
    "There are two peaks for this file, we compare these two peaks.  \n",
    "If there are more than two peaks, we compare the global peak with each of local peaks."
   ]
  },
  {
   "cell_type": "code",
   "execution_count": 24,
   "metadata": {},
   "outputs": [
    {
     "data": {
      "text/html": [
       "<table>\n",
       "<thead><tr><th scope=col>Pair</th><th scope=col>Estimate</th><th scope=col>Std.Error</th><th scope=col>Tvalue</th><th scope=col>PVadj</th><th scope=col>significant</th></tr></thead>\n",
       "<tbody>\n",
       "\t<tr><td>9.9 vs 14.1 </td><td>7492.64     </td><td>1412.907    </td><td>5.302997    </td><td>1.613878e-07</td><td>1           </td></tr>\n",
       "</tbody>\n",
       "</table>\n"
      ],
      "text/latex": [
       "\\begin{tabular}{r|llllll}\n",
       " Pair & Estimate & Std.Error & Tvalue & PVadj & significant\\\\\n",
       "\\hline\n",
       "\t 9.9 vs 14.1  & 7492.64      & 1412.907     & 5.302997     & 1.613878e-07 & 1           \\\\\n",
       "\\end{tabular}\n"
      ],
      "text/markdown": [
       "\n",
       "Pair | Estimate | Std.Error | Tvalue | PVadj | significant | \n",
       "|---|\n",
       "| 9.9 vs 14.1  | 7492.64      | 1412.907     | 5.302997     | 1.613878e-07 | 1            | \n",
       "\n",
       "\n"
      ],
      "text/plain": [
       "  Pair        Estimate Std.Error Tvalue   PVadj        significant\n",
       "1 9.9 vs 14.1 7492.64  1412.907  5.302997 1.613878e-07 1          "
      ]
     },
     "metadata": {},
     "output_type": "display_data"
    }
   ],
   "source": [
    "rowmndiff = ((rowmn[2:length(rowmn)] - rowmn[1:(length(rowmn)-1)])>0)*1\n",
    "\n",
    "peak.loc = c()\n",
    "for(i.diff in 1:(length(rowmndiff)-1)){\n",
    "  if(rowmndiff[i.diff+1]<rowmndiff[i.diff])\n",
    "    peak.loc = c(peak.loc,i.diff+1)\n",
    "}\n",
    "\n",
    "rm(i.diff)\n",
    "\n",
    "peaks = freq_nooverlap$Row[peak.loc]\n",
    "n.p = length(peak.loc)\n",
    "\n",
    "\n",
    "# contrast\n",
    "if(n.p > 1){\n",
    "pairs = t(combn(peak.loc,m = 2))\n",
    "contrast = matrix(0,nrow=nrow(pairs),ncol=length(freq_nooverlap$Row))\n",
    "\n",
    "for(j in 1:nrow(pairs)){\n",
    "  contrast[j,pairs[j,]] = c(1,-1)}\n",
    "rm(j)\n",
    "\n",
    "rownames(contrast) = paste0(freq_nooverlap$Row[pairs[,1]],\" vs \",freq_nooverlap$Row[pairs[,2]])\n",
    "\n",
    "t = glht(freq_lm, linfct = contrast)\n",
    "a = summary(t)\n",
    "\n",
    "r = data.frame(Estimate = a$test$coefficients,Std.Error = a$test$sigma,Tvalue = a$test$tstat,PVadj = a$test$pvalues)\n",
    "r <- r %>% rownames_to_column(\"Pair\")\n",
    "r$significant = (r$PVadj<0.05)*1\n",
    "\n",
    "# which freq has the largest average power?\n",
    "max_mean_freq = freq_nooverlap$Row[rowmn == max(rowmn)]\n",
    "\n",
    "r_mmf = r[str_detect(r$Pair,as.character(max_mean_freq)),]\n",
    "df_sig = c(\"Yes\",\"No\")[(sum(r_mmf$significant!=1)>0)+1]\n",
    "}\n",
    "\n",
    "if(n.p==1){\n",
    "  df_sig = \"Yes\"\n",
    "  max_mean_freq = freq_nooverlap$Row[rowmn == max(rowmn)]\n",
    "  }\n",
    "r_mmf"
   ]
  },
  {
   "cell_type": "markdown",
   "metadata": {},
   "source": [
    "### 5. Summary for this file  \n",
    "One imput file outputs a row as below.  \n",
    "multiple files outputs multiple rows in the same format.  \n",
    "Then save the multiple rows as a csv file."
   ]
  },
  {
   "cell_type": "code",
   "execution_count": 28,
   "metadata": {},
   "outputs": [
    {
     "data": {
      "text/html": [
       "<table>\n",
       "<thead><tr><th scope=col>filename</th><th scope=col>anova_p</th><th scope=col>global_peak</th><th scope=col>df_significance</th></tr></thead>\n",
       "<tbody>\n",
       "\t<tr><td>14-18_Trial05_chpaddle01.csv</td><td>&lt;0.0001                  </td><td>9.9                         </td><td>Yes                         </td></tr>\n",
       "</tbody>\n",
       "</table>\n"
      ],
      "text/latex": [
       "\\begin{tabular}{r|llll}\n",
       " filename & anova\\_p & global\\_peak & df\\_significance\\\\\n",
       "\\hline\n",
       "\t 14-18\\_Trial05\\_chpaddle01.csv & <0.0001                          & 9.9                              & Yes                             \\\\\n",
       "\\end{tabular}\n"
      ],
      "text/markdown": [
       "\n",
       "filename | anova_p | global_peak | df_significance | \n",
       "|---|\n",
       "| 14-18_Trial05_chpaddle01.csv | <0.0001                      | 9.9                          | Yes                          | \n",
       "\n",
       "\n"
      ],
      "text/plain": [
       "  filename                     anova_p global_peak df_significance\n",
       "1 14-18_Trial05_chpaddle01.csv <0.0001 9.9         Yes            "
      ]
     },
     "metadata": {},
     "output_type": "display_data"
    }
   ],
   "source": [
    "result = data.frame(filename,anova_p,global_peak = max_mean_freq, df_significance = df_sig)\n",
    "result"
   ]
  },
  {
   "cell_type": "markdown",
   "metadata": {},
   "source": [
    "### 6. Scale powers at each time point so that the maximum power at each time point is one."
   ]
  },
  {
   "cell_type": "code",
   "execution_count": 30,
   "metadata": {},
   "outputs": [
    {
     "data": {},
     "metadata": {},
     "output_type": "display_data"
    },
    {
     "data": {
      "image/png": "[encoded data removed]",
      "text/plain": [
       "plot without title"
      ]
     },
     "metadata": {},
     "output_type": "display_data"
    }
   ],
   "source": [
    "for(j in 2:(lastcol+2)){\n",
    "    freq_nooverlap[,j] = freq_nooverlap[,j]/max(freq_nooverlap[,j])\n",
    "  }\n",
    "  rm(j)\n",
    "  \n",
    "freq_long = reshape(freq_nooverlap,varying = names(freq_nooverlap)[2:ncol(freq_nooverlap)],v.names = \"power\",\n",
    "                      timevar = \"time\",idvar = \"Row\",direction = \"long\")\n",
    "  \n",
    "freq_long$time = freq_long$time - 1\n",
    "freq_long$Row = as.factor(freq_long$Row)\n",
    "  \n",
    "rowmn = rowMeans(freq_nooverlap[,2:ncol(freq_nooverlap)])\n",
    "plotdata = data.frame(Row = freq_nooverlap$Row, avg_power = rowmn)\n",
    "ggplot(data = plotdata,aes(x=Row,y=avg_power))+geom_point()+geom_line()"
   ]
  },
  {
   "cell_type": "markdown",
   "metadata": {},
   "source": [
    "Continue with the similar procedure."
   ]
  }
 ],
 "metadata": {
  "kernelspec": {
   "display_name": "Python 2",
   "language": "python",
   "name": "python2"
  },
  "language_info": {
   "codemirror_mode": "r",
   "file_extension": ".r",
   "mimetype": "text/x-r-source",
   "name": "R",
   "pygments_lexer": "r",
   "version": "3.5.1"
  }
 },
 "nbformat": 4,
 "nbformat_minor": 2
}
